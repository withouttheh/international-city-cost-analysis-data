{
 "cells": [
  {
   "cell_type": "code",
   "execution_count": 1,
   "metadata": {},
   "outputs": [],
   "source": [
    "import requests\n",
    "from bs4 import BeautifulSoup\n",
    "import pandas as pd\n",
    "import numpy as np"
   ]
  },
  {
   "cell_type": "code",
   "execution_count": 2,
   "metadata": {},
   "outputs": [],
   "source": [
    "base_url = 'https://www.numbeo.com/cost-of-living/historical-data-city-selector'"
   ]
  },
  {
   "cell_type": "code",
   "execution_count": null,
   "metadata": {},
   "outputs": [],
   "source": [
    "page = requests.get(base_url)\n",
    "numbeo_city_soup = BeautifulSoup(page.content, \"html.parser\")\n",
    "results = numbeo_city_soup.find('table', class_='related_links')\n",
    "print(results())"
   ]
  },
  {
   "cell_type": "code",
   "execution_count": 6,
   "metadata": {},
   "outputs": [
    {
     "data": {
      "text/plain": [
       "<a href=\"https://www.numbeo.com/cost-of-living/city-history/in/Aachen\">Aachen, Germany</a>"
      ]
     },
     "execution_count": 6,
     "metadata": {},
     "output_type": "execute_result"
    }
   ],
   "source": [
    "list_cities = results.find_all('a')\n",
    "list_cities[0]"
   ]
  },
  {
   "cell_type": "code",
   "execution_count": 7,
   "metadata": {},
   "outputs": [
    {
     "data": {
      "text/plain": [
       "964"
      ]
     },
     "execution_count": 7,
     "metadata": {},
     "output_type": "execute_result"
    }
   ],
   "source": [
    "len(list_cities)"
   ]
  },
  {
   "cell_type": "code",
   "execution_count": 8,
   "metadata": {},
   "outputs": [],
   "source": [
    "city_dict = lambda x: {'City': x.text.split(\",\")[0], 'Country':x.text.split(\",\")[1], 'Url':x[\"href\"]}\n",
    "city_pages = [city_dict(city) for city in list_cities]"
   ]
  },
  {
   "cell_type": "code",
   "execution_count": 10,
   "metadata": {},
   "outputs": [
    {
     "data": {
      "text/plain": [
       "{'City': 'Aachen',\n",
       " 'Country': ' Germany',\n",
       " 'Url': 'https://www.numbeo.com/cost-of-living/city-history/in/Aachen'}"
      ]
     },
     "execution_count": 10,
     "metadata": {},
     "output_type": "execute_result"
    }
   ],
   "source": [
    "city_pages[0]"
   ]
  },
  {
   "cell_type": "code",
   "execution_count": 11,
   "metadata": {},
   "outputs": [
    {
     "data": {
      "text/html": [
       "<div>\n",
       "<style scoped>\n",
       "    .dataframe tbody tr th:only-of-type {\n",
       "        vertical-align: middle;\n",
       "    }\n",
       "\n",
       "    .dataframe tbody tr th {\n",
       "        vertical-align: top;\n",
       "    }\n",
       "\n",
       "    .dataframe thead th {\n",
       "        text-align: right;\n",
       "    }\n",
       "</style>\n",
       "<table border=\"1\" class=\"dataframe\">\n",
       "  <thead>\n",
       "    <tr style=\"text-align: right;\">\n",
       "      <th></th>\n",
       "      <th>City</th>\n",
       "      <th>Country</th>\n",
       "      <th>Url</th>\n",
       "    </tr>\n",
       "  </thead>\n",
       "  <tbody>\n",
       "    <tr>\n",
       "      <th>0</th>\n",
       "      <td>Aachen</td>\n",
       "      <td>Germany</td>\n",
       "      <td>https://www.numbeo.com/cost-of-living/city-his...</td>\n",
       "    </tr>\n",
       "    <tr>\n",
       "      <th>1</th>\n",
       "      <td>Aalborg</td>\n",
       "      <td>Denmark</td>\n",
       "      <td>https://www.numbeo.com/cost-of-living/city-his...</td>\n",
       "    </tr>\n",
       "    <tr>\n",
       "      <th>2</th>\n",
       "      <td>Aarhus</td>\n",
       "      <td>Denmark</td>\n",
       "      <td>https://www.numbeo.com/cost-of-living/city-his...</td>\n",
       "    </tr>\n",
       "    <tr>\n",
       "      <th>3</th>\n",
       "      <td>Abbotsford</td>\n",
       "      <td>Canada</td>\n",
       "      <td>https://www.numbeo.com/cost-of-living/city-his...</td>\n",
       "    </tr>\n",
       "    <tr>\n",
       "      <th>4</th>\n",
       "      <td>Aberdeen</td>\n",
       "      <td>United Kingdom</td>\n",
       "      <td>https://www.numbeo.com/cost-of-living/city-his...</td>\n",
       "    </tr>\n",
       "  </tbody>\n",
       "</table>\n",
       "</div>"
      ],
      "text/plain": [
       "         City          Country  \\\n",
       "0      Aachen          Germany   \n",
       "1     Aalborg          Denmark   \n",
       "2      Aarhus          Denmark   \n",
       "3  Abbotsford           Canada   \n",
       "4    Aberdeen   United Kingdom   \n",
       "\n",
       "                                                 Url  \n",
       "0  https://www.numbeo.com/cost-of-living/city-his...  \n",
       "1  https://www.numbeo.com/cost-of-living/city-his...  \n",
       "2  https://www.numbeo.com/cost-of-living/city-his...  \n",
       "3  https://www.numbeo.com/cost-of-living/city-his...  \n",
       "4  https://www.numbeo.com/cost-of-living/city-his...  "
      ]
     },
     "execution_count": 11,
     "metadata": {},
     "output_type": "execute_result"
    }
   ],
   "source": [
    "df = pd.DataFrame(city_pages)\n",
    "df.head()"
   ]
  },
  {
   "cell_type": "code",
   "execution_count": 13,
   "metadata": {},
   "outputs": [
    {
     "data": {
      "text/plain": [
       "0      False\n",
       "1      False\n",
       "2      False\n",
       "3       True\n",
       "4      False\n",
       "       ...  \n",
       "959    False\n",
       "960    False\n",
       "961    False\n",
       "962    False\n",
       "963    False\n",
       "Name: City, Length: 964, dtype: bool"
      ]
     },
     "execution_count": 13,
     "metadata": {},
     "output_type": "execute_result"
    }
   ],
   "source": [
    "df['City'] == 'Abbotsford'"
   ]
  },
  {
   "cell_type": "code",
   "execution_count": 24,
   "metadata": {},
   "outputs": [
    {
     "data": {
      "text/html": [
       "<div>\n",
       "<style scoped>\n",
       "    .dataframe tbody tr th:only-of-type {\n",
       "        vertical-align: middle;\n",
       "    }\n",
       "\n",
       "    .dataframe tbody tr th {\n",
       "        vertical-align: top;\n",
       "    }\n",
       "\n",
       "    .dataframe thead th {\n",
       "        text-align: right;\n",
       "    }\n",
       "</style>\n",
       "<table border=\"1\" class=\"dataframe\">\n",
       "  <thead>\n",
       "    <tr style=\"text-align: right;\">\n",
       "      <th></th>\n",
       "      <th>City</th>\n",
       "      <th>Country</th>\n",
       "      <th>Url</th>\n",
       "    </tr>\n",
       "  </thead>\n",
       "  <tbody>\n",
       "    <tr>\n",
       "      <th>3</th>\n",
       "      <td>Abbotsford</td>\n",
       "      <td>Canada</td>\n",
       "      <td>https://www.numbeo.com/cost-of-living/city-his...</td>\n",
       "    </tr>\n",
       "  </tbody>\n",
       "</table>\n",
       "</div>"
      ],
      "text/plain": [
       "         City  Country                                                Url\n",
       "3  Abbotsford   Canada  https://www.numbeo.com/cost-of-living/city-his..."
      ]
     },
     "execution_count": 24,
     "metadata": {},
     "output_type": "execute_result"
    }
   ],
   "source": [
    "df.loc[df['City'] == 'Abbotsford']"
   ]
  },
  {
   "cell_type": "code",
   "execution_count": 20,
   "metadata": {},
   "outputs": [
    {
     "data": {
      "text/plain": [
       "3"
      ]
     },
     "execution_count": 20,
     "metadata": {},
     "output_type": "execute_result"
    }
   ],
   "source": [
    "df.loc[df['City'] == 'Abbotsford'].index[0]"
   ]
  },
  {
   "cell_type": "code",
   "execution_count": 25,
   "metadata": {},
   "outputs": [
    {
     "data": {
      "text/plain": [
       "'https://www.numbeo.com/cost-of-living/city-history/in/Abbotsford'"
      ]
     },
     "execution_count": 25,
     "metadata": {},
     "output_type": "execute_result"
    }
   ],
   "source": [
    "df.iloc[df.loc[df['City'] == 'Abbotsford'].index[0]][\"Url\"]"
   ]
  },
  {
   "cell_type": "code",
   "execution_count": 26,
   "metadata": {},
   "outputs": [],
   "source": [
    "page = requests.get(df.iloc[df.loc[df['City'] == 'Abbotsford'].index[0]][\"Url\"])"
   ]
  },
  {
   "cell_type": "code",
   "execution_count": 27,
   "metadata": {},
   "outputs": [
    {
     "data": {
      "text/plain": [
       "<Response [200]>"
      ]
     },
     "execution_count": 27,
     "metadata": {},
     "output_type": "execute_result"
    }
   ],
   "source": [
    "page"
   ]
  },
  {
   "cell_type": "code",
   "execution_count": 29,
   "metadata": {},
   "outputs": [],
   "source": [
    "abbotsford = BeautifulSoup(page.content, \"html.parser\")"
   ]
  },
  {
   "cell_type": "code",
   "execution_count": null,
   "metadata": {},
   "outputs": [],
   "source": [
    "abbotsford"
   ]
  },
  {
   "cell_type": "code",
   "execution_count": 31,
   "metadata": {},
   "outputs": [],
   "source": [
    "inner_width = abbotsford.find_all('div', class_='innerWidth')"
   ]
  },
  {
   "cell_type": "code",
   "execution_count": 36,
   "metadata": {},
   "outputs": [
    {
     "data": {
      "text/plain": [
       "3"
      ]
     },
     "execution_count": 36,
     "metadata": {},
     "output_type": "execute_result"
    }
   ],
   "source": [
    "len(inner_width)"
   ]
  },
  {
   "cell_type": "code",
   "execution_count": null,
   "metadata": {},
   "outputs": [],
   "source": [
    "inner_width[2]"
   ]
  },
  {
   "cell_type": "code",
   "execution_count": 41,
   "metadata": {},
   "outputs": [],
   "source": [
    "def get_tables(city):\n",
    "    page = requests.get(df.iloc[df.loc[df['City'] == city].index[0]][\"Url\"])\n",
    "    one_city_soup = BeautifulSoup(page.content, \"html.parser\")\n",
    "    inner_width = one_city_soup.find_all('div', class_='innerWidth')\n",
    "    results = inner_width[2].find_all('table')\n",
    "    return results"
   ]
  },
  {
   "cell_type": "code",
   "execution_count": 42,
   "metadata": {},
   "outputs": [
    {
     "data": {
      "text/plain": [
       "14"
      ]
     },
     "execution_count": 42,
     "metadata": {},
     "output_type": "execute_result"
    }
   ],
   "source": [
    "cape_town_data = get_tables(\"Cape Town\")\n",
    "len(cape_town_data) "
   ]
  },
  {
   "cell_type": "code",
   "execution_count": 44,
   "metadata": {},
   "outputs": [
    {
     "data": {
      "text/plain": [
       "<table class=\"stripe row-border order-column compact\" id=\"tier_1\">\n",
       "<thead>\n",
       "<tr>\n",
       "<th><div class=\"font_in_table_headers\">Year</div></th><th><div class=\"font_in_table_headers\">Meal, Inexpensive Restaurant</div></th><th><div class=\"font_in_table_headers\">Meal for 2 People, <br/>Mid-range Restaurant, Three-course</div></th><th><div class=\"font_in_table_headers\">McMeal at McDonalds <br/>(or Equivalent Combo Meal)</div></th></tr>\n",
       "</thead>\n",
       "<tbody>\n",
       "<tr>\n",
       "<td style=\"text-align: right\">2023</td>\n",
       "<td style=\"white-space: nowrap; text-align: right\">170.00</td>\n",
       "<td style=\"white-space: nowrap; text-align: right\">700.00</td>\n",
       "<td style=\"white-space: nowrap; text-align: right\">80.00</td>\n",
       "</tr>\n",
       "<tr>\n",
       "<td style=\"text-align: right\">2022</td>\n",
       "<td style=\"white-space: nowrap; text-align: right\">150.00</td>\n",
       "<td style=\"white-space: nowrap; text-align: right\">600.00</td>\n",
       "<td style=\"white-space: nowrap; text-align: right\">70.00</td>\n",
       "</tr>\n",
       "<tr>\n",
       "<td style=\"text-align: right\">2021</td>\n",
       "<td style=\"white-space: nowrap; text-align: right\">150.00</td>\n",
       "<td style=\"white-space: nowrap; text-align: right\">600.00</td>\n",
       "<td style=\"white-space: nowrap; text-align: right\">65.00</td>\n",
       "</tr>\n",
       "<tr>\n",
       "<td style=\"text-align: right\">2020</td>\n",
       "<td style=\"white-space: nowrap; text-align: right\">120.00</td>\n",
       "<td style=\"white-space: nowrap; text-align: right\">550.00</td>\n",
       "<td style=\"white-space: nowrap; text-align: right\">60.00</td>\n",
       "</tr>\n",
       "<tr>\n",
       "<td style=\"text-align: right\">2019</td>\n",
       "<td style=\"white-space: nowrap; text-align: right\">140.00</td>\n",
       "<td style=\"white-space: nowrap; text-align: right\">600.00</td>\n",
       "<td style=\"white-space: nowrap; text-align: right\">60.00</td>\n",
       "</tr>\n",
       "<tr>\n",
       "<td style=\"text-align: right\">2018</td>\n",
       "<td style=\"white-space: nowrap; text-align: right\">120.00</td>\n",
       "<td style=\"white-space: nowrap; text-align: right\">500.00</td>\n",
       "<td style=\"white-space: nowrap; text-align: right\">60.00</td>\n",
       "</tr>\n",
       "<tr>\n",
       "<td style=\"text-align: right\">2017</td>\n",
       "<td style=\"white-space: nowrap; text-align: right\">100.00</td>\n",
       "<td style=\"white-space: nowrap; text-align: right\">460.00</td>\n",
       "<td style=\"white-space: nowrap; text-align: right\">57.50</td>\n",
       "</tr>\n",
       "<tr>\n",
       "<td style=\"text-align: right\">2016</td>\n",
       "<td style=\"white-space: nowrap; text-align: right\">100.00</td>\n",
       "<td style=\"white-space: nowrap; text-align: right\">450.00</td>\n",
       "<td style=\"white-space: nowrap; text-align: right\">55.00</td>\n",
       "</tr>\n",
       "<tr>\n",
       "<td style=\"text-align: right\">2015</td>\n",
       "<td style=\"white-space: nowrap; text-align: right\">90.00</td>\n",
       "<td style=\"white-space: nowrap; text-align: right\">400.00</td>\n",
       "<td style=\"white-space: nowrap; text-align: right\">45.00</td>\n",
       "</tr>\n",
       "<tr>\n",
       "<td style=\"text-align: right\">2014</td>\n",
       "<td style=\"white-space: nowrap; text-align: right\">80.00</td>\n",
       "<td style=\"white-space: nowrap; text-align: right\">300.00</td>\n",
       "<td style=\"white-space: nowrap; text-align: right\">45.00</td>\n",
       "</tr>\n",
       "<tr>\n",
       "<td style=\"text-align: right\">2013</td>\n",
       "<td style=\"white-space: nowrap; text-align: right\">70.00</td>\n",
       "<td style=\"white-space: nowrap; text-align: right\">300.00</td>\n",
       "<td style=\"white-space: nowrap; text-align: right\">40.00</td>\n",
       "</tr>\n",
       "<tr>\n",
       "<td style=\"text-align: right\">2012</td>\n",
       "<td style=\"white-space: nowrap; text-align: right\">70.00</td>\n",
       "<td style=\"white-space: nowrap; text-align: right\">318.40</td>\n",
       "<td style=\"white-space: nowrap; text-align: right\">37.00</td>\n",
       "</tr>\n",
       "<tr>\n",
       "<td style=\"text-align: right\">2011</td>\n",
       "<td style=\"white-space: nowrap; text-align: right\">75.00</td>\n",
       "<td style=\"white-space: nowrap; text-align: right\">285.00</td>\n",
       "<td style=\"white-space: nowrap; text-align: right\">35.50</td>\n",
       "</tr>\n",
       "<tr>\n",
       "<td style=\"text-align: right\">2010</td>\n",
       "<td style=\"white-space: nowrap; text-align: right\">55.00</td>\n",
       "<td style=\"white-space: nowrap; text-align: right\">220.00</td>\n",
       "<td style=\"white-space: nowrap; text-align: right\">38.50</td>\n",
       "</tr>\n",
       "</tbody>\n",
       "</table>"
      ]
     },
     "execution_count": 44,
     "metadata": {},
     "output_type": "execute_result"
    }
   ],
   "source": [
    "cape_town_data[0]"
   ]
  },
  {
   "cell_type": "code",
   "execution_count": 43,
   "metadata": {},
   "outputs": [
    {
     "data": {
      "text/plain": [
       "14"
      ]
     },
     "execution_count": 43,
     "metadata": {},
     "output_type": "execute_result"
    }
   ],
   "source": [
    "nairobi_data = get_tables(\"Nairobi\")\n",
    "len(nairobi_data)"
   ]
  },
  {
   "cell_type": "code",
   "execution_count": 45,
   "metadata": {},
   "outputs": [],
   "source": [
    "from io import StringIO"
   ]
  },
  {
   "cell_type": "code",
   "execution_count": 46,
   "metadata": {},
   "outputs": [],
   "source": [
    "reader_converter = lambda x: pd.DataFrame(pd.read_html(StringIO(str(x)))[0])\n",
    "\n",
    "cape_df_list = [reader_converter(table) for table in cape_town_data]\n",
    "nairobi_df_list =[reader_converter(table) for table in nairobi_data]"
   ]
  },
  {
   "cell_type": "code",
   "execution_count": 48,
   "metadata": {},
   "outputs": [
    {
     "data": {
      "text/html": [
       "<div>\n",
       "<style scoped>\n",
       "    .dataframe tbody tr th:only-of-type {\n",
       "        vertical-align: middle;\n",
       "    }\n",
       "\n",
       "    .dataframe tbody tr th {\n",
       "        vertical-align: top;\n",
       "    }\n",
       "\n",
       "    .dataframe thead th {\n",
       "        text-align: right;\n",
       "    }\n",
       "</style>\n",
       "<table border=\"1\" class=\"dataframe\">\n",
       "  <thead>\n",
       "    <tr style=\"text-align: right;\">\n",
       "      <th></th>\n",
       "      <th>Year</th>\n",
       "      <th>1 Pair of Jeans (Levis 501 Or Similar)</th>\n",
       "      <th>1 Summer Dress in a Chain Store (Zara, H&amp;M, ...)</th>\n",
       "      <th>1 Pair of Nike Running Shoes (Mid-Range)</th>\n",
       "      <th>1 Pair of Men Leather Business Shoes</th>\n",
       "    </tr>\n",
       "  </thead>\n",
       "  <tbody>\n",
       "    <tr>\n",
       "      <th>0</th>\n",
       "      <td>2023</td>\n",
       "      <td>822.46</td>\n",
       "      <td>541.04</td>\n",
       "      <td>1548.28</td>\n",
       "      <td>1367.35</td>\n",
       "    </tr>\n",
       "    <tr>\n",
       "      <th>1</th>\n",
       "      <td>2022</td>\n",
       "      <td>824.94</td>\n",
       "      <td>562.93</td>\n",
       "      <td>1545.66</td>\n",
       "      <td>1299.52</td>\n",
       "    </tr>\n",
       "    <tr>\n",
       "      <th>2</th>\n",
       "      <td>2021</td>\n",
       "      <td>712.03</td>\n",
       "      <td>533.33</td>\n",
       "      <td>1327.75</td>\n",
       "      <td>1327.16</td>\n",
       "    </tr>\n",
       "    <tr>\n",
       "      <th>3</th>\n",
       "      <td>2020</td>\n",
       "      <td>755.44</td>\n",
       "      <td>506.53</td>\n",
       "      <td>1333.99</td>\n",
       "      <td>1293.25</td>\n",
       "    </tr>\n",
       "    <tr>\n",
       "      <th>4</th>\n",
       "      <td>2019</td>\n",
       "      <td>788.30</td>\n",
       "      <td>502.96</td>\n",
       "      <td>1382.25</td>\n",
       "      <td>1253.38</td>\n",
       "    </tr>\n",
       "    <tr>\n",
       "      <th>5</th>\n",
       "      <td>2018</td>\n",
       "      <td>758.63</td>\n",
       "      <td>456.52</td>\n",
       "      <td>1206.04</td>\n",
       "      <td>1164.58</td>\n",
       "    </tr>\n",
       "    <tr>\n",
       "      <th>6</th>\n",
       "      <td>2017</td>\n",
       "      <td>693.21</td>\n",
       "      <td>467.50</td>\n",
       "      <td>1114.10</td>\n",
       "      <td>993.55</td>\n",
       "    </tr>\n",
       "    <tr>\n",
       "      <th>7</th>\n",
       "      <td>2016</td>\n",
       "      <td>721.54</td>\n",
       "      <td>501.47</td>\n",
       "      <td>1071.40</td>\n",
       "      <td>1186.17</td>\n",
       "    </tr>\n",
       "    <tr>\n",
       "      <th>8</th>\n",
       "      <td>2015</td>\n",
       "      <td>667.00</td>\n",
       "      <td>488.85</td>\n",
       "      <td>943.18</td>\n",
       "      <td>843.52</td>\n",
       "    </tr>\n",
       "    <tr>\n",
       "      <th>9</th>\n",
       "      <td>2014</td>\n",
       "      <td>643.25</td>\n",
       "      <td>394.22</td>\n",
       "      <td>924.92</td>\n",
       "      <td>766.58</td>\n",
       "    </tr>\n",
       "    <tr>\n",
       "      <th>10</th>\n",
       "      <td>2013</td>\n",
       "      <td>644.44</td>\n",
       "      <td>357.36</td>\n",
       "      <td>734.80</td>\n",
       "      <td>749.90</td>\n",
       "    </tr>\n",
       "    <tr>\n",
       "      <th>11</th>\n",
       "      <td>2012</td>\n",
       "      <td>600.00</td>\n",
       "      <td>400.00</td>\n",
       "      <td>664.29</td>\n",
       "      <td>644.44</td>\n",
       "    </tr>\n",
       "    <tr>\n",
       "      <th>12</th>\n",
       "      <td>2011</td>\n",
       "      <td>630.00</td>\n",
       "      <td>272.38</td>\n",
       "      <td>800.00</td>\n",
       "      <td>837.25</td>\n",
       "    </tr>\n",
       "    <tr>\n",
       "      <th>13</th>\n",
       "      <td>2010</td>\n",
       "      <td>400.00</td>\n",
       "      <td>215.00</td>\n",
       "      <td>775.00</td>\n",
       "      <td>660.00</td>\n",
       "    </tr>\n",
       "  </tbody>\n",
       "</table>\n",
       "</div>"
      ],
      "text/plain": [
       "    Year  1 Pair of Jeans (Levis 501 Or Similar)  \\\n",
       "0   2023                                  822.46   \n",
       "1   2022                                  824.94   \n",
       "2   2021                                  712.03   \n",
       "3   2020                                  755.44   \n",
       "4   2019                                  788.30   \n",
       "5   2018                                  758.63   \n",
       "6   2017                                  693.21   \n",
       "7   2016                                  721.54   \n",
       "8   2015                                  667.00   \n",
       "9   2014                                  643.25   \n",
       "10  2013                                  644.44   \n",
       "11  2012                                  600.00   \n",
       "12  2011                                  630.00   \n",
       "13  2010                                  400.00   \n",
       "\n",
       "    1 Summer Dress in a Chain Store (Zara, H&M, ...)  \\\n",
       "0                                             541.04   \n",
       "1                                             562.93   \n",
       "2                                             533.33   \n",
       "3                                             506.53   \n",
       "4                                             502.96   \n",
       "5                                             456.52   \n",
       "6                                             467.50   \n",
       "7                                             501.47   \n",
       "8                                             488.85   \n",
       "9                                             394.22   \n",
       "10                                            357.36   \n",
       "11                                            400.00   \n",
       "12                                            272.38   \n",
       "13                                            215.00   \n",
       "\n",
       "    1 Pair of Nike Running Shoes (Mid-Range)  \\\n",
       "0                                    1548.28   \n",
       "1                                    1545.66   \n",
       "2                                    1327.75   \n",
       "3                                    1333.99   \n",
       "4                                    1382.25   \n",
       "5                                    1206.04   \n",
       "6                                    1114.10   \n",
       "7                                    1071.40   \n",
       "8                                     943.18   \n",
       "9                                     924.92   \n",
       "10                                    734.80   \n",
       "11                                    664.29   \n",
       "12                                    800.00   \n",
       "13                                    775.00   \n",
       "\n",
       "    1 Pair of Men Leather Business Shoes  \n",
       "0                                1367.35  \n",
       "1                                1299.52  \n",
       "2                                1327.16  \n",
       "3                                1293.25  \n",
       "4                                1253.38  \n",
       "5                                1164.58  \n",
       "6                                 993.55  \n",
       "7                                1186.17  \n",
       "8                                 843.52  \n",
       "9                                 766.58  \n",
       "10                                749.90  \n",
       "11                                644.44  \n",
       "12                                837.25  \n",
       "13                                660.00  "
      ]
     },
     "execution_count": 48,
     "metadata": {},
     "output_type": "execute_result"
    }
   ],
   "source": [
    "cape_df_list[13]"
   ]
  },
  {
   "cell_type": "code",
   "execution_count": 40,
   "metadata": {},
   "outputs": [
    {
     "data": {
      "text/html": [
       "<div>\n",
       "<style scoped>\n",
       "    .dataframe tbody tr th:only-of-type {\n",
       "        vertical-align: middle;\n",
       "    }\n",
       "\n",
       "    .dataframe tbody tr th {\n",
       "        vertical-align: top;\n",
       "    }\n",
       "\n",
       "    .dataframe thead th {\n",
       "        text-align: right;\n",
       "    }\n",
       "</style>\n",
       "<table border=\"1\" class=\"dataframe\">\n",
       "  <thead>\n",
       "    <tr style=\"text-align: right;\">\n",
       "      <th></th>\n",
       "      <th>Year</th>\n",
       "      <th>Domestic Beer (0.5 liter draught)</th>\n",
       "      <th>Imported Beer (0.33 liter bottle)</th>\n",
       "      <th>Coke/Pepsi (0.33 liter bottle)</th>\n",
       "      <th>Water (0.33 liter bottle)</th>\n",
       "      <th>Cappuccino (regular)</th>\n",
       "    </tr>\n",
       "  </thead>\n",
       "  <tbody>\n",
       "    <tr>\n",
       "      <th>0</th>\n",
       "      <td>2023</td>\n",
       "      <td>299.58</td>\n",
       "      <td>400.0</td>\n",
       "      <td>70.42</td>\n",
       "      <td>58.00</td>\n",
       "      <td>321.10</td>\n",
       "    </tr>\n",
       "    <tr>\n",
       "      <th>1</th>\n",
       "      <td>2022</td>\n",
       "      <td>250.00</td>\n",
       "      <td>350.0</td>\n",
       "      <td>69.91</td>\n",
       "      <td>60.26</td>\n",
       "      <td>282.40</td>\n",
       "    </tr>\n",
       "    <tr>\n",
       "      <th>2</th>\n",
       "      <td>2021</td>\n",
       "      <td>250.00</td>\n",
       "      <td>350.0</td>\n",
       "      <td>52.94</td>\n",
       "      <td>42.81</td>\n",
       "      <td>247.33</td>\n",
       "    </tr>\n",
       "    <tr>\n",
       "      <th>3</th>\n",
       "      <td>2020</td>\n",
       "      <td>250.00</td>\n",
       "      <td>300.0</td>\n",
       "      <td>53.33</td>\n",
       "      <td>56.58</td>\n",
       "      <td>305.00</td>\n",
       "    </tr>\n",
       "    <tr>\n",
       "      <th>4</th>\n",
       "      <td>2019</td>\n",
       "      <td>300.00</td>\n",
       "      <td>400.0</td>\n",
       "      <td>69.02</td>\n",
       "      <td>69.81</td>\n",
       "      <td>282.44</td>\n",
       "    </tr>\n",
       "    <tr>\n",
       "      <th>5</th>\n",
       "      <td>2018</td>\n",
       "      <td>201.56</td>\n",
       "      <td>275.0</td>\n",
       "      <td>47.76</td>\n",
       "      <td>44.25</td>\n",
       "      <td>230.16</td>\n",
       "    </tr>\n",
       "    <tr>\n",
       "      <th>6</th>\n",
       "      <td>2017</td>\n",
       "      <td>200.00</td>\n",
       "      <td>250.0</td>\n",
       "      <td>57.69</td>\n",
       "      <td>49.00</td>\n",
       "      <td>237.27</td>\n",
       "    </tr>\n",
       "    <tr>\n",
       "      <th>7</th>\n",
       "      <td>2016</td>\n",
       "      <td>200.00</td>\n",
       "      <td>300.0</td>\n",
       "      <td>55.75</td>\n",
       "      <td>47.27</td>\n",
       "      <td>250.71</td>\n",
       "    </tr>\n",
       "    <tr>\n",
       "      <th>8</th>\n",
       "      <td>2015</td>\n",
       "      <td>200.00</td>\n",
       "      <td>300.0</td>\n",
       "      <td>71.33</td>\n",
       "      <td>55.39</td>\n",
       "      <td>228.00</td>\n",
       "    </tr>\n",
       "    <tr>\n",
       "      <th>9</th>\n",
       "      <td>2014</td>\n",
       "      <td>200.00</td>\n",
       "      <td>280.0</td>\n",
       "      <td>63.36</td>\n",
       "      <td>50.76</td>\n",
       "      <td>234.23</td>\n",
       "    </tr>\n",
       "    <tr>\n",
       "      <th>10</th>\n",
       "      <td>2013</td>\n",
       "      <td>200.00</td>\n",
       "      <td>235.0</td>\n",
       "      <td>57.27</td>\n",
       "      <td>51.36</td>\n",
       "      <td>198.91</td>\n",
       "    </tr>\n",
       "    <tr>\n",
       "      <th>11</th>\n",
       "      <td>2012</td>\n",
       "      <td>150.00</td>\n",
       "      <td>200.0</td>\n",
       "      <td>52.15</td>\n",
       "      <td>52.02</td>\n",
       "      <td>162.42</td>\n",
       "    </tr>\n",
       "  </tbody>\n",
       "</table>\n",
       "</div>"
      ],
      "text/plain": [
       "    Year  Domestic Beer (0.5 liter draught)  \\\n",
       "0   2023                             299.58   \n",
       "1   2022                             250.00   \n",
       "2   2021                             250.00   \n",
       "3   2020                             250.00   \n",
       "4   2019                             300.00   \n",
       "5   2018                             201.56   \n",
       "6   2017                             200.00   \n",
       "7   2016                             200.00   \n",
       "8   2015                             200.00   \n",
       "9   2014                             200.00   \n",
       "10  2013                             200.00   \n",
       "11  2012                             150.00   \n",
       "\n",
       "    Imported Beer (0.33 liter bottle)  Coke/Pepsi (0.33 liter bottle)  \\\n",
       "0                               400.0                           70.42   \n",
       "1                               350.0                           69.91   \n",
       "2                               350.0                           52.94   \n",
       "3                               300.0                           53.33   \n",
       "4                               400.0                           69.02   \n",
       "5                               275.0                           47.76   \n",
       "6                               250.0                           57.69   \n",
       "7                               300.0                           55.75   \n",
       "8                               300.0                           71.33   \n",
       "9                               280.0                           63.36   \n",
       "10                              235.0                           57.27   \n",
       "11                              200.0                           52.15   \n",
       "\n",
       "    Water (0.33 liter bottle)  Cappuccino (regular)  \n",
       "0                       58.00                321.10  \n",
       "1                       60.26                282.40  \n",
       "2                       42.81                247.33  \n",
       "3                       56.58                305.00  \n",
       "4                       69.81                282.44  \n",
       "5                       44.25                230.16  \n",
       "6                       49.00                237.27  \n",
       "7                       47.27                250.71  \n",
       "8                       55.39                228.00  \n",
       "9                       50.76                234.23  \n",
       "10                      51.36                198.91  \n",
       "11                      52.02                162.42  "
      ]
     },
     "execution_count": 40,
     "metadata": {},
     "output_type": "execute_result"
    }
   ],
   "source": [
    "nairobi_df_list[0]"
   ]
  },
  {
   "cell_type": "code",
   "execution_count": 34,
   "metadata": {},
   "outputs": [],
   "source": [
    "import os\n",
    "\n",
    "def save_df(df_list, city): \n",
    "    titles = ['eat-out-meal', 'beverage', 'basic-grocery', 'fresh-produce', 'deli', 'rental', 'property',\n",
    "              'salary', 'transport-daily', 'transport-monthly', 'mortgage', 'utilities', 'entertainment', 'clothing']\n",
    "    # Create directory if it doesn't exist\n",
    "    directory = f'data/{city}'\n",
    "    if not os.path.exists(directory):\n",
    "        os.makedirs(directory)\n",
    "    for index, frame in enumerate(df_list):\n",
    "        # Ensure the title index is within bounds\n",
    "        if index < len(titles):\n",
    "            # Save DataFrame to CSV\n",
    "            frame.to_csv(f'{directory}/{titles[index]}.csv', sep=',', index=False, encoding='utf-8')\n"
   ]
  },
  {
   "cell_type": "code",
   "execution_count": 35,
   "metadata": {},
   "outputs": [],
   "source": [
    "save_df(cape_df_list, 'cape-town')"
   ]
  },
  {
   "cell_type": "code",
   "execution_count": 36,
   "metadata": {},
   "outputs": [],
   "source": [
    "save_df(nairobi_df_list, 'nairobi')"
   ]
  },
  {
   "cell_type": "code",
   "execution_count": null,
   "metadata": {},
   "outputs": [],
   "source": []
  }
 ],
 "metadata": {
  "kernelspec": {
   "display_name": "base",
   "language": "python",
   "name": "python3"
  },
  "language_info": {
   "codemirror_mode": {
    "name": "ipython",
    "version": 3
   },
   "file_extension": ".py",
   "mimetype": "text/x-python",
   "name": "python",
   "nbconvert_exporter": "python",
   "pygments_lexer": "ipython3",
   "version": "3.11.7"
  }
 },
 "nbformat": 4,
 "nbformat_minor": 2
}
