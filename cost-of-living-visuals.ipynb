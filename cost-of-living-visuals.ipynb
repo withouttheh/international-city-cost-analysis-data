{
 "cells": [
  {
   "cell_type": "code",
   "execution_count": 8,
   "metadata": {},
   "outputs": [],
   "source": [
    "import numpy as np\n",
    "import pandas as pd\n",
    "from matplotlib import pyplot as plt"
   ]
  },
  {
   "cell_type": "code",
   "execution_count": 5,
   "metadata": {},
   "outputs": [],
   "source": [
    "cpt_data = pd.read_csv(\"data/cape-town/basic-grocery.csv\")"
   ]
  },
  {
   "cell_type": "code",
   "execution_count": 7,
   "metadata": {},
   "outputs": [
    {
     "data": {
      "text/html": [
       "<div>\n",
       "<style scoped>\n",
       "    .dataframe tbody tr th:only-of-type {\n",
       "        vertical-align: middle;\n",
       "    }\n",
       "\n",
       "    .dataframe tbody tr th {\n",
       "        vertical-align: top;\n",
       "    }\n",
       "\n",
       "    .dataframe thead th {\n",
       "        text-align: right;\n",
       "    }\n",
       "</style>\n",
       "<table border=\"1\" class=\"dataframe\">\n",
       "  <thead>\n",
       "    <tr style=\"text-align: right;\">\n",
       "      <th></th>\n",
       "      <th>Year</th>\n",
       "      <th>Milk (regular), (1 liter)</th>\n",
       "      <th>Loaf of Fresh White Bread (500g)</th>\n",
       "      <th>Eggs (regular) (12)</th>\n",
       "      <th>Water (1.5 liter bottle)</th>\n",
       "      <th>Domestic Beer (0.5 liter bottle)</th>\n",
       "      <th>Imported Beer (0.33 liter bottle)</th>\n",
       "    </tr>\n",
       "  </thead>\n",
       "  <tbody>\n",
       "    <tr>\n",
       "      <th>0</th>\n",
       "      <td>2023</td>\n",
       "      <td>18.74</td>\n",
       "      <td>17.11</td>\n",
       "      <td>39.54</td>\n",
       "      <td>16.82</td>\n",
       "      <td>21.19</td>\n",
       "      <td>30.25</td>\n",
       "    </tr>\n",
       "    <tr>\n",
       "      <th>1</th>\n",
       "      <td>2022</td>\n",
       "      <td>16.13</td>\n",
       "      <td>16.66</td>\n",
       "      <td>31.75</td>\n",
       "      <td>14.96</td>\n",
       "      <td>26.14</td>\n",
       "      <td>35.14</td>\n",
       "    </tr>\n",
       "    <tr>\n",
       "      <th>2</th>\n",
       "      <td>2021</td>\n",
       "      <td>14.40</td>\n",
       "      <td>13.74</td>\n",
       "      <td>30.67</td>\n",
       "      <td>16.03</td>\n",
       "      <td>22.13</td>\n",
       "      <td>28.68</td>\n",
       "    </tr>\n",
       "    <tr>\n",
       "      <th>3</th>\n",
       "      <td>2020</td>\n",
       "      <td>14.89</td>\n",
       "      <td>13.88</td>\n",
       "      <td>32.54</td>\n",
       "      <td>13.87</td>\n",
       "      <td>23.67</td>\n",
       "      <td>31.01</td>\n",
       "    </tr>\n",
       "    <tr>\n",
       "      <th>4</th>\n",
       "      <td>2019</td>\n",
       "      <td>16.00</td>\n",
       "      <td>14.00</td>\n",
       "      <td>32.94</td>\n",
       "      <td>18.23</td>\n",
       "      <td>27.69</td>\n",
       "      <td>35.56</td>\n",
       "    </tr>\n",
       "    <tr>\n",
       "      <th>5</th>\n",
       "      <td>2018</td>\n",
       "      <td>12.87</td>\n",
       "      <td>13.14</td>\n",
       "      <td>34.62</td>\n",
       "      <td>14.73</td>\n",
       "      <td>20.95</td>\n",
       "      <td>28.45</td>\n",
       "    </tr>\n",
       "    <tr>\n",
       "      <th>6</th>\n",
       "      <td>2017</td>\n",
       "      <td>12.82</td>\n",
       "      <td>11.97</td>\n",
       "      <td>23.90</td>\n",
       "      <td>14.10</td>\n",
       "      <td>18.33</td>\n",
       "      <td>28.79</td>\n",
       "    </tr>\n",
       "    <tr>\n",
       "      <th>7</th>\n",
       "      <td>2016</td>\n",
       "      <td>13.12</td>\n",
       "      <td>12.44</td>\n",
       "      <td>24.33</td>\n",
       "      <td>13.34</td>\n",
       "      <td>18.72</td>\n",
       "      <td>30.31</td>\n",
       "    </tr>\n",
       "    <tr>\n",
       "      <th>8</th>\n",
       "      <td>2015</td>\n",
       "      <td>11.74</td>\n",
       "      <td>10.87</td>\n",
       "      <td>20.40</td>\n",
       "      <td>13.40</td>\n",
       "      <td>17.53</td>\n",
       "      <td>22.80</td>\n",
       "    </tr>\n",
       "    <tr>\n",
       "      <th>9</th>\n",
       "      <td>2014</td>\n",
       "      <td>11.69</td>\n",
       "      <td>10.35</td>\n",
       "      <td>21.91</td>\n",
       "      <td>13.78</td>\n",
       "      <td>16.30</td>\n",
       "      <td>18.33</td>\n",
       "    </tr>\n",
       "    <tr>\n",
       "      <th>10</th>\n",
       "      <td>2013</td>\n",
       "      <td>11.29</td>\n",
       "      <td>9.09</td>\n",
       "      <td>22.27</td>\n",
       "      <td>13.11</td>\n",
       "      <td>13.58</td>\n",
       "      <td>14.56</td>\n",
       "    </tr>\n",
       "    <tr>\n",
       "      <th>11</th>\n",
       "      <td>2012</td>\n",
       "      <td>9.32</td>\n",
       "      <td>8.33</td>\n",
       "      <td>17.60</td>\n",
       "      <td>11.60</td>\n",
       "      <td>10.00</td>\n",
       "      <td>11.88</td>\n",
       "    </tr>\n",
       "    <tr>\n",
       "      <th>12</th>\n",
       "      <td>2011</td>\n",
       "      <td>8.17</td>\n",
       "      <td>7.68</td>\n",
       "      <td>19.51</td>\n",
       "      <td>10.95</td>\n",
       "      <td>10.60</td>\n",
       "      <td>14.46</td>\n",
       "    </tr>\n",
       "    <tr>\n",
       "      <th>13</th>\n",
       "      <td>2010</td>\n",
       "      <td>8.30</td>\n",
       "      <td>8.38</td>\n",
       "      <td>13.75</td>\n",
       "      <td>11.00</td>\n",
       "      <td>9.00</td>\n",
       "      <td>13.33</td>\n",
       "    </tr>\n",
       "  </tbody>\n",
       "</table>\n",
       "</div>"
      ],
      "text/plain": [
       "    Year  Milk (regular), (1 liter)  Loaf of Fresh White Bread (500g)  \\\n",
       "0   2023                      18.74                             17.11   \n",
       "1   2022                      16.13                             16.66   \n",
       "2   2021                      14.40                             13.74   \n",
       "3   2020                      14.89                             13.88   \n",
       "4   2019                      16.00                             14.00   \n",
       "5   2018                      12.87                             13.14   \n",
       "6   2017                      12.82                             11.97   \n",
       "7   2016                      13.12                             12.44   \n",
       "8   2015                      11.74                             10.87   \n",
       "9   2014                      11.69                             10.35   \n",
       "10  2013                      11.29                              9.09   \n",
       "11  2012                       9.32                              8.33   \n",
       "12  2011                       8.17                              7.68   \n",
       "13  2010                       8.30                              8.38   \n",
       "\n",
       "    Eggs (regular) (12)  Water (1.5 liter bottle)  \\\n",
       "0                 39.54                     16.82   \n",
       "1                 31.75                     14.96   \n",
       "2                 30.67                     16.03   \n",
       "3                 32.54                     13.87   \n",
       "4                 32.94                     18.23   \n",
       "5                 34.62                     14.73   \n",
       "6                 23.90                     14.10   \n",
       "7                 24.33                     13.34   \n",
       "8                 20.40                     13.40   \n",
       "9                 21.91                     13.78   \n",
       "10                22.27                     13.11   \n",
       "11                17.60                     11.60   \n",
       "12                19.51                     10.95   \n",
       "13                13.75                     11.00   \n",
       "\n",
       "    Domestic Beer (0.5 liter bottle)  Imported Beer (0.33 liter bottle)  \n",
       "0                              21.19                              30.25  \n",
       "1                              26.14                              35.14  \n",
       "2                              22.13                              28.68  \n",
       "3                              23.67                              31.01  \n",
       "4                              27.69                              35.56  \n",
       "5                              20.95                              28.45  \n",
       "6                              18.33                              28.79  \n",
       "7                              18.72                              30.31  \n",
       "8                              17.53                              22.80  \n",
       "9                              16.30                              18.33  \n",
       "10                             13.58                              14.56  \n",
       "11                             10.00                              11.88  \n",
       "12                             10.60                              14.46  \n",
       "13                              9.00                              13.33  "
      ]
     },
     "execution_count": 7,
     "metadata": {},
     "output_type": "execute_result"
    }
   ],
   "source": [
    "cpt_data"
   ]
  },
  {
   "cell_type": "code",
   "execution_count": 26,
   "metadata": {},
   "outputs": [
    {
     "data": {
      "text/plain": [
       "Index(['Year', 'Milk (regular), (1 liter)', 'Loaf of Fresh White Bread (500g)',\n",
       "       'Eggs (regular) (12)', 'Water (1.5 liter bottle)',\n",
       "       'Domestic Beer (0.5 liter bottle)',\n",
       "       'Imported Beer (0.33 liter bottle)'],\n",
       "      dtype='object')"
      ]
     },
     "execution_count": 26,
     "metadata": {},
     "output_type": "execute_result"
    }
   ],
   "source": [
    "cpt_data.columns\n",
    "\n",
    "\n"
   ]
  },
  {
   "cell_type": "code",
   "execution_count": 28,
   "metadata": {},
   "outputs": [
    {
     "data": {
      "text/plain": [
       "'Loaf of Fresh White Bread (500g)'"
      ]
     },
     "execution_count": 28,
     "metadata": {},
     "output_type": "execute_result"
    }
   ],
   "source": [
    "cpt_data.columns[2]"
   ]
  },
  {
   "cell_type": "code",
   "execution_count": 29,
   "metadata": {},
   "outputs": [
    {
     "data": {
      "text/plain": [
       "0     17.11\n",
       "1     16.66\n",
       "2     13.74\n",
       "3     13.88\n",
       "4     14.00\n",
       "5     13.14\n",
       "6     11.97\n",
       "7     12.44\n",
       "8     10.87\n",
       "9     10.35\n",
       "10     9.09\n",
       "11     8.33\n",
       "12     7.68\n",
       "13     8.38\n",
       "Name: Loaf of Fresh White Bread (500g), dtype: float64"
      ]
     },
     "execution_count": 29,
     "metadata": {},
     "output_type": "execute_result"
    }
   ],
   "source": [
    "cpt_data['Loaf of Fresh White Bread (500g)']"
   ]
  },
  {
   "cell_type": "code",
   "execution_count": 27,
   "metadata": {},
   "outputs": [
    {
     "data": {
      "text/plain": [
       "[<matplotlib.lines.Line2D at 0x1a811b71e50>]"
      ]
     },
     "execution_count": 27,
     "metadata": {},
     "output_type": "execute_result"
    },
    {
     "data": {
      "image/png": "[encoded data removed]",
      "text/plain": [
       "<Figure size 640x480 with 1 Axes>"
      ]
     },
     "metadata": {},
     "output_type": "display_data"
    }
   ],
   "source": [
    "plt.plot(cpt_data[cpt_data.columns[2]])"
   ]
  }
 ],
 "metadata": {
  "kernelspec": {
   "display_name": "base",
   "language": "python",
   "name": "python3"
  },
  "language_info": {
   "codemirror_mode": {
    "name": "ipython",
    "version": 3
   },
   "file_extension": ".py",
   "mimetype": "text/x-python",
   "name": "python",
   "nbconvert_exporter": "python",
   "pygments_lexer": "ipython3",
   "version": "3.11.7"
  }
 },
 "nbformat": 4,
 "nbformat_minor": 2
}
