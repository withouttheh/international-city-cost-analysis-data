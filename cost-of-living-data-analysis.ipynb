{
 "cells": [
  {
   "cell_type": "markdown",
   "metadata": {},
   "source": [
    "## Budget Calculator App API"
   ]
  },
  {
   "cell_type": "markdown",
   "metadata": {},
   "source": [
    "This notebook serves as a model for the app API"
   ]
  },
  {
   "cell_type": "code",
   "execution_count": 1,
   "metadata": {},
   "outputs": [],
   "source": [
    "import requests\n",
    "from bs4 import BeautifulSoup\n",
    "import pandas as pd\n",
    "import numpy as np"
   ]
  },
  {
   "cell_type": "markdown",
   "metadata": {},
   "source": [
    "## Initial Requests "
   ]
  },
  {
   "cell_type": "markdown",
   "metadata": {},
   "source": [
    "This code runs each time the application starts. "
   ]
  },
  {
   "cell_type": "code",
   "execution_count": 2,
   "metadata": {},
   "outputs": [],
   "source": [
    "base_url = 'https://www.numbeo.com/cost-of-living/historical-data-city-selector'"
   ]
  },
  {
   "cell_type": "code",
   "execution_count": null,
   "metadata": {},
   "outputs": [],
   "source": [
    "page = requests.get(base_url)\n",
    "numbeo_city_soup = BeautifulSoup(page.content, \"html.parser\")\n",
    "results = numbeo_city_soup.find('table', class_='related_links')\n",
    "print(results())"
   ]
  },
  {
   "cell_type": "code",
   "execution_count": 4,
   "metadata": {},
   "outputs": [
    {
     "data": {
      "text/plain": [
       "<a href=\"https://www.numbeo.com/cost-of-living/city-history/in/Aachen\">Aachen, Germany</a>"
      ]
     },
     "execution_count": 4,
     "metadata": {},
     "output_type": "execute_result"
    }
   ],
   "source": [
    "list_cities = results.find_all('a')\n",
    "list_cities[0]"
   ]
  },
  {
   "cell_type": "code",
   "execution_count": 5,
   "metadata": {},
   "outputs": [],
   "source": [
    "city_name = lambda x: f\"({x[0]}) {x[1]}\" if len(x) > 2 else x[0]\n",
    "\n",
    "city_dict = lambda x: {'City':city_name(x.text.split(\",\")), 'Country':x.text.split(\",\")[-1].strip(), 'Url':x[\"href\"]}\n",
    "city_pages = [city_dict(city) for city in list_cities]"
   ]
  },
  {
   "cell_type": "code",
   "execution_count": 6,
   "metadata": {},
   "outputs": [
    {
     "data": {
      "text/html": [
       "<div>\n",
       "<style scoped>\n",
       "    .dataframe tbody tr th:only-of-type {\n",
       "        vertical-align: middle;\n",
       "    }\n",
       "\n",
       "    .dataframe tbody tr th {\n",
       "        vertical-align: top;\n",
       "    }\n",
       "\n",
       "    .dataframe thead th {\n",
       "        text-align: right;\n",
       "    }\n",
       "</style>\n",
       "<table border=\"1\" class=\"dataframe\">\n",
       "  <thead>\n",
       "    <tr style=\"text-align: right;\">\n",
       "      <th></th>\n",
       "      <th>City</th>\n",
       "      <th>Country</th>\n",
       "      <th>Url</th>\n",
       "    </tr>\n",
       "  </thead>\n",
       "  <tbody>\n",
       "    <tr>\n",
       "      <th>0</th>\n",
       "      <td>Aachen</td>\n",
       "      <td>Germany</td>\n",
       "      <td>https://www.numbeo.com/cost-of-living/city-his...</td>\n",
       "    </tr>\n",
       "    <tr>\n",
       "      <th>1</th>\n",
       "      <td>Aalborg</td>\n",
       "      <td>Denmark</td>\n",
       "      <td>https://www.numbeo.com/cost-of-living/city-his...</td>\n",
       "    </tr>\n",
       "    <tr>\n",
       "      <th>2</th>\n",
       "      <td>Aarhus</td>\n",
       "      <td>Denmark</td>\n",
       "      <td>https://www.numbeo.com/cost-of-living/city-his...</td>\n",
       "    </tr>\n",
       "    <tr>\n",
       "      <th>3</th>\n",
       "      <td>Abbotsford</td>\n",
       "      <td>Canada</td>\n",
       "      <td>https://www.numbeo.com/cost-of-living/city-his...</td>\n",
       "    </tr>\n",
       "    <tr>\n",
       "      <th>4</th>\n",
       "      <td>Aberdeen</td>\n",
       "      <td>United Kingdom</td>\n",
       "      <td>https://www.numbeo.com/cost-of-living/city-his...</td>\n",
       "    </tr>\n",
       "  </tbody>\n",
       "</table>\n",
       "</div>"
      ],
      "text/plain": [
       "         City         Country  \\\n",
       "0      Aachen         Germany   \n",
       "1     Aalborg         Denmark   \n",
       "2      Aarhus         Denmark   \n",
       "3  Abbotsford          Canada   \n",
       "4    Aberdeen  United Kingdom   \n",
       "\n",
       "                                                 Url  \n",
       "0  https://www.numbeo.com/cost-of-living/city-his...  \n",
       "1  https://www.numbeo.com/cost-of-living/city-his...  \n",
       "2  https://www.numbeo.com/cost-of-living/city-his...  \n",
       "3  https://www.numbeo.com/cost-of-living/city-his...  \n",
       "4  https://www.numbeo.com/cost-of-living/city-his...  "
      ]
     },
     "execution_count": 6,
     "metadata": {},
     "output_type": "execute_result"
    }
   ],
   "source": [
    "df = pd.DataFrame(city_pages) # creates a dataframe with all cities, their country and page urls for their data tables \n",
    "df.head()"
   ]
  },
  {
   "cell_type": "markdown",
   "metadata": {},
   "source": [
    "## User Interaction"
   ]
  },
  {
   "cell_type": "markdown",
   "metadata": {},
   "source": [
    "This part of the code kicks in when the user inputs search criterion via the UI. Country and city are case sensitive. Appropriate measures should be taken in the app logic to prevent link brakage due to incorrect user entries."
   ]
  },
  {
   "cell_type": "code",
   "execution_count": 7,
   "metadata": {},
   "outputs": [],
   "source": [
    "country_selection = input(\"Select Country\")\n",
    "country_slice = df[df[\"Country\"] == country_selection]"
   ]
  },
  {
   "cell_type": "code",
   "execution_count": 8,
   "metadata": {},
   "outputs": [
    {
     "data": {
      "text/html": [
       "<div>\n",
       "<style scoped>\n",
       "    .dataframe tbody tr th:only-of-type {\n",
       "        vertical-align: middle;\n",
       "    }\n",
       "\n",
       "    .dataframe tbody tr th {\n",
       "        vertical-align: top;\n",
       "    }\n",
       "\n",
       "    .dataframe thead th {\n",
       "        text-align: right;\n",
       "    }\n",
       "</style>\n",
       "<table border=\"1\" class=\"dataframe\">\n",
       "  <thead>\n",
       "    <tr style=\"text-align: right;\">\n",
       "      <th></th>\n",
       "      <th>City</th>\n",
       "      <th>Country</th>\n",
       "      <th>Url</th>\n",
       "    </tr>\n",
       "  </thead>\n",
       "  <tbody>\n",
       "    <tr>\n",
       "      <th>169</th>\n",
       "      <td>Cape Town</td>\n",
       "      <td>South Africa</td>\n",
       "      <td>https://www.numbeo.com/cost-of-living/city-his...</td>\n",
       "    </tr>\n",
       "    <tr>\n",
       "      <th>256</th>\n",
       "      <td>Durban</td>\n",
       "      <td>South Africa</td>\n",
       "      <td>https://www.numbeo.com/cost-of-living/city-his...</td>\n",
       "    </tr>\n",
       "    <tr>\n",
       "      <th>396</th>\n",
       "      <td>Johannesburg</td>\n",
       "      <td>South Africa</td>\n",
       "      <td>https://www.numbeo.com/cost-of-living/city-his...</td>\n",
       "    </tr>\n",
       "    <tr>\n",
       "      <th>673</th>\n",
       "      <td>Port Elizabeth</td>\n",
       "      <td>South Africa</td>\n",
       "      <td>https://www.numbeo.com/cost-of-living/city-his...</td>\n",
       "    </tr>\n",
       "    <tr>\n",
       "      <th>686</th>\n",
       "      <td>Pretoria</td>\n",
       "      <td>South Africa</td>\n",
       "      <td>https://www.numbeo.com/cost-of-living/city-his...</td>\n",
       "    </tr>\n",
       "  </tbody>\n",
       "</table>\n",
       "</div>"
      ],
      "text/plain": [
       "               City       Country  \\\n",
       "169       Cape Town  South Africa   \n",
       "256          Durban  South Africa   \n",
       "396    Johannesburg  South Africa   \n",
       "673  Port Elizabeth  South Africa   \n",
       "686        Pretoria  South Africa   \n",
       "\n",
       "                                                   Url  \n",
       "169  https://www.numbeo.com/cost-of-living/city-his...  \n",
       "256  https://www.numbeo.com/cost-of-living/city-his...  \n",
       "396  https://www.numbeo.com/cost-of-living/city-his...  \n",
       "673  https://www.numbeo.com/cost-of-living/city-his...  \n",
       "686  https://www.numbeo.com/cost-of-living/city-his...  "
      ]
     },
     "execution_count": 8,
     "metadata": {},
     "output_type": "execute_result"
    }
   ],
   "source": [
    "country_slice"
   ]
  },
  {
   "cell_type": "markdown",
   "metadata": {},
   "source": [
    "Once the data has been sliced by country, the user can select a city. Some cities are duplicated accross countries or states. Being able to avoid ambiguity by defining country then city is an essential step in ensuring the app provides accurate information."
   ]
  },
  {
   "cell_type": "code",
   "execution_count": 9,
   "metadata": {},
   "outputs": [],
   "source": [
    "def get_tables(city):\n",
    "    from io import StringIO\n",
    "    page = requests.get(df.iloc[df.loc[df['City'] == city].index[0]][\"Url\"])\n",
    "    one_city_soup = BeautifulSoup(page.content, \"html.parser\")\n",
    "    inner_width = one_city_soup.find_all('div', class_='innerWidth')\n",
    "    results = inner_width[2].find_all('table')\n",
    "    return results"
   ]
  },
  {
   "cell_type": "code",
   "execution_count": 10,
   "metadata": {},
   "outputs": [],
   "source": [
    "city = input(\"Enter City\")\n",
    "data = get_tables(city)"
   ]
  },
  {
   "cell_type": "code",
   "execution_count": 11,
   "metadata": {},
   "outputs": [
    {
     "data": {
      "text/plain": [
       "<table class=\"stripe row-border order-column compact\" id=\"tier_1\">\n",
       "<thead>\n",
       "<tr>\n",
       "<th><div class=\"font_in_table_headers\">Year</div></th><th><div class=\"font_in_table_headers\">Meal, Inexpensive Restaurant</div></th><th><div class=\"font_in_table_headers\">Meal for 2 People, <br/>Mid-range Restaurant, Three-course</div></th><th><div class=\"font_in_table_headers\">McMeal at McDonalds <br/>(or Equivalent Combo Meal)</div></th></tr>\n",
       "</thead>\n",
       "<tbody>\n",
       "<tr>\n",
       "<td style=\"text-align: right\">2023</td>\n",
       "<td style=\"white-space: nowrap; text-align: right\">170.00</td>\n",
       "<td style=\"white-space: nowrap; text-align: right\">700.00</td>\n",
       "<td style=\"white-space: nowrap; text-align: right\">80.00</td>\n",
       "</tr>\n",
       "<tr>\n",
       "<td style=\"text-align: right\">2022</td>\n",
       "<td style=\"white-space: nowrap; text-align: right\">150.00</td>\n",
       "<td style=\"white-space: nowrap; text-align: right\">600.00</td>\n",
       "<td style=\"white-space: nowrap; text-align: right\">70.00</td>\n",
       "</tr>\n",
       "<tr>\n",
       "<td style=\"text-align: right\">2021</td>\n",
       "<td style=\"white-space: nowrap; text-align: right\">150.00</td>\n",
       "<td style=\"white-space: nowrap; text-align: right\">600.00</td>\n",
       "<td style=\"white-space: nowrap; text-align: right\">65.00</td>\n",
       "</tr>\n",
       "<tr>\n",
       "<td style=\"text-align: right\">2020</td>\n",
       "<td style=\"white-space: nowrap; text-align: right\">120.00</td>\n",
       "<td style=\"white-space: nowrap; text-align: right\">550.00</td>\n",
       "<td style=\"white-space: nowrap; text-align: right\">60.00</td>\n",
       "</tr>\n",
       "<tr>\n",
       "<td style=\"text-align: right\">2019</td>\n",
       "<td style=\"white-space: nowrap; text-align: right\">140.00</td>\n",
       "<td style=\"white-space: nowrap; text-align: right\">600.00</td>\n",
       "<td style=\"white-space: nowrap; text-align: right\">60.00</td>\n",
       "</tr>\n",
       "<tr>\n",
       "<td style=\"text-align: right\">2018</td>\n",
       "<td style=\"white-space: nowrap; text-align: right\">120.00</td>\n",
       "<td style=\"white-space: nowrap; text-align: right\">500.00</td>\n",
       "<td style=\"white-space: nowrap; text-align: right\">60.00</td>\n",
       "</tr>\n",
       "<tr>\n",
       "<td style=\"text-align: right\">2017</td>\n",
       "<td style=\"white-space: nowrap; text-align: right\">100.00</td>\n",
       "<td style=\"white-space: nowrap; text-align: right\">460.00</td>\n",
       "<td style=\"white-space: nowrap; text-align: right\">57.50</td>\n",
       "</tr>\n",
       "<tr>\n",
       "<td style=\"text-align: right\">2016</td>\n",
       "<td style=\"white-space: nowrap; text-align: right\">100.00</td>\n",
       "<td style=\"white-space: nowrap; text-align: right\">450.00</td>\n",
       "<td style=\"white-space: nowrap; text-align: right\">55.00</td>\n",
       "</tr>\n",
       "<tr>\n",
       "<td style=\"text-align: right\">2015</td>\n",
       "<td style=\"white-space: nowrap; text-align: right\">90.00</td>\n",
       "<td style=\"white-space: nowrap; text-align: right\">400.00</td>\n",
       "<td style=\"white-space: nowrap; text-align: right\">45.00</td>\n",
       "</tr>\n",
       "<tr>\n",
       "<td style=\"text-align: right\">2014</td>\n",
       "<td style=\"white-space: nowrap; text-align: right\">80.00</td>\n",
       "<td style=\"white-space: nowrap; text-align: right\">300.00</td>\n",
       "<td style=\"white-space: nowrap; text-align: right\">45.00</td>\n",
       "</tr>\n",
       "<tr>\n",
       "<td style=\"text-align: right\">2013</td>\n",
       "<td style=\"white-space: nowrap; text-align: right\">70.00</td>\n",
       "<td style=\"white-space: nowrap; text-align: right\">300.00</td>\n",
       "<td style=\"white-space: nowrap; text-align: right\">40.00</td>\n",
       "</tr>\n",
       "<tr>\n",
       "<td style=\"text-align: right\">2012</td>\n",
       "<td style=\"white-space: nowrap; text-align: right\">70.00</td>\n",
       "<td style=\"white-space: nowrap; text-align: right\">318.40</td>\n",
       "<td style=\"white-space: nowrap; text-align: right\">37.00</td>\n",
       "</tr>\n",
       "<tr>\n",
       "<td style=\"text-align: right\">2011</td>\n",
       "<td style=\"white-space: nowrap; text-align: right\">75.00</td>\n",
       "<td style=\"white-space: nowrap; text-align: right\">285.00</td>\n",
       "<td style=\"white-space: nowrap; text-align: right\">35.50</td>\n",
       "</tr>\n",
       "<tr>\n",
       "<td style=\"text-align: right\">2010</td>\n",
       "<td style=\"white-space: nowrap; text-align: right\">55.00</td>\n",
       "<td style=\"white-space: nowrap; text-align: right\">220.00</td>\n",
       "<td style=\"white-space: nowrap; text-align: right\">38.50</td>\n",
       "</tr>\n",
       "</tbody>\n",
       "</table>"
      ]
     },
     "execution_count": 11,
     "metadata": {},
     "output_type": "execute_result"
    }
   ],
   "source": [
    "data[0]\n"
   ]
  },
  {
   "cell_type": "markdown",
   "metadata": {},
   "source": [
    "The below function takes the raw tables and combines them into categories of cost groups which the user will be able to track their expenditure in."
   ]
  },
  {
   "cell_type": "code",
   "execution_count": 12,
   "metadata": {},
   "outputs": [],
   "source": [
    "def categorize_data(tables):\n",
    "    from io import StringIO\n",
    "    reader_converter = lambda x: pd.DataFrame(pd.read_html(StringIO(str(x)))[0])\n",
    "    df_list = [reader_converter(table) for table in tables]\n",
    "    market = pd.concat([df_list[2], df_list[3], df_list[4]], axis=1).T.drop_duplicates().T\n",
    "    leisure = pd.concat([df_list[0], df_list[12]], axis=1).T.drop_duplicates().T\n",
    "    rental = df_list[5]\n",
    "    public_transport = df_list[9]\n",
    "    utillities = df_list[11]\n",
    "    clothing = df_list[13]\n",
    "    category_frames = [market, leisure, rental, public_transport, utillities, clothing]\n",
    "    return [frame.set_index(\"Year\") for frame in category_frames]"
   ]
  },
  {
   "cell_type": "markdown",
   "metadata": {},
   "source": [
    "The index code for categories is as follows:\n",
    "\n",
    "0 - Market  \n",
    "1 - Leisure  \n",
    "2 - Rental  \n",
    "3 - Public Transport  \n",
    "4 - Utilities  \n",
    "5 - Clothing"
   ]
  },
  {
   "cell_type": "code",
   "execution_count": 13,
   "metadata": {},
   "outputs": [],
   "source": [
    "categorized_data = categorize_data(data)"
   ]
  },
  {
   "cell_type": "markdown",
   "metadata": {},
   "source": [
    "The below function cleans the categorized data, removing nulls and changing datatypes to floats. This is essential for the next step: interpolation."
   ]
  },
  {
   "cell_type": "code",
   "execution_count": 14,
   "metadata": {},
   "outputs": [],
   "source": [
    "def clean_data(frames):\n",
    "    for frame in frames:\n",
    "        frame.replace({'-': np.nan}, inplace=True)\n",
    "        frame = frame.astype(float)\n",
    "    return(frames)"
   ]
  },
  {
   "cell_type": "code",
   "execution_count": 15,
   "metadata": {},
   "outputs": [],
   "source": [
    "clean_data = clean_data(categorized_data)"
   ]
  },
  {
   "cell_type": "markdown",
   "metadata": {},
   "source": [
    "Each dataframe is interpolated in a linear manner, filling the nulls according to the progression or sequence of values accross the column. "
   ]
  },
  {
   "cell_type": "code",
   "execution_count": 29,
   "metadata": {},
   "outputs": [
    {
     "name": "stderr",
     "output_type": "stream",
     "text": [
      "C:\\Users\\Talent Match\\AppData\\Local\\Temp\\ipykernel_12424\\2357336620.py:1: FutureWarning: DataFrame.interpolate with object dtype is deprecated and will raise in a future version. Call obj.infer_objects(copy=False) before interpolating instead.\n",
      "  clean_data[1].interpolate()\n"
     ]
    },
    {
     "data": {
      "text/html": [
       "<div>\n",
       "<style scoped>\n",
       "    .dataframe tbody tr th:only-of-type {\n",
       "        vertical-align: middle;\n",
       "    }\n",
       "\n",
       "    .dataframe tbody tr th {\n",
       "        vertical-align: top;\n",
       "    }\n",
       "\n",
       "    .dataframe thead th {\n",
       "        text-align: right;\n",
       "    }\n",
       "</style>\n",
       "<table border=\"1\" class=\"dataframe\">\n",
       "  <thead>\n",
       "    <tr style=\"text-align: right;\">\n",
       "      <th></th>\n",
       "      <th>Meal, Inexpensive Restaurant</th>\n",
       "      <th>Meal for 2 People, Mid-range Restaurant, Three-course</th>\n",
       "      <th>McMeal at McDonalds (or Equivalent Combo Meal)</th>\n",
       "      <th>Fitness Club, Monthly Fee for 1 Adult</th>\n",
       "      <th>Tennis Court Rent (1 Hour on Weekend)</th>\n",
       "      <th>Cinema, International Release, 1 Seat</th>\n",
       "    </tr>\n",
       "    <tr>\n",
       "      <th>Year</th>\n",
       "      <th></th>\n",
       "      <th></th>\n",
       "      <th></th>\n",
       "      <th></th>\n",
       "      <th></th>\n",
       "      <th></th>\n",
       "    </tr>\n",
       "  </thead>\n",
       "  <tbody>\n",
       "    <tr>\n",
       "      <th>2023</th>\n",
       "      <td>170.0</td>\n",
       "      <td>700.0</td>\n",
       "      <td>80.0</td>\n",
       "      <td>595.27</td>\n",
       "      <td>87.50</td>\n",
       "      <td>107.50</td>\n",
       "    </tr>\n",
       "    <tr>\n",
       "      <th>2022</th>\n",
       "      <td>150.0</td>\n",
       "      <td>600.0</td>\n",
       "      <td>70.0</td>\n",
       "      <td>728.82</td>\n",
       "      <td>188.33</td>\n",
       "      <td>100.00</td>\n",
       "    </tr>\n",
       "    <tr>\n",
       "      <th>2021</th>\n",
       "      <td>150.0</td>\n",
       "      <td>600.0</td>\n",
       "      <td>65.0</td>\n",
       "      <td>541.35</td>\n",
       "      <td>155.62</td>\n",
       "      <td>100.00</td>\n",
       "    </tr>\n",
       "    <tr>\n",
       "      <th>2020</th>\n",
       "      <td>120.0</td>\n",
       "      <td>550.0</td>\n",
       "      <td>60.0</td>\n",
       "      <td>514.19</td>\n",
       "      <td>179.44</td>\n",
       "      <td>100.00</td>\n",
       "    </tr>\n",
       "    <tr>\n",
       "      <th>2019</th>\n",
       "      <td>140.0</td>\n",
       "      <td>600.0</td>\n",
       "      <td>60.0</td>\n",
       "      <td>567.01</td>\n",
       "      <td>126.47</td>\n",
       "      <td>85.00</td>\n",
       "    </tr>\n",
       "    <tr>\n",
       "      <th>2018</th>\n",
       "      <td>120.0</td>\n",
       "      <td>500.0</td>\n",
       "      <td>60.0</td>\n",
       "      <td>476.75</td>\n",
       "      <td>132.62</td>\n",
       "      <td>80.00</td>\n",
       "    </tr>\n",
       "    <tr>\n",
       "      <th>2017</th>\n",
       "      <td>100.0</td>\n",
       "      <td>460.0</td>\n",
       "      <td>57.5</td>\n",
       "      <td>499.09</td>\n",
       "      <td>80.00</td>\n",
       "      <td>75.00</td>\n",
       "    </tr>\n",
       "    <tr>\n",
       "      <th>2016</th>\n",
       "      <td>100.0</td>\n",
       "      <td>450.0</td>\n",
       "      <td>55.0</td>\n",
       "      <td>530.39</td>\n",
       "      <td>95.00</td>\n",
       "      <td>67.25</td>\n",
       "    </tr>\n",
       "    <tr>\n",
       "      <th>2015</th>\n",
       "      <td>90.0</td>\n",
       "      <td>400.0</td>\n",
       "      <td>45.0</td>\n",
       "      <td>433.25</td>\n",
       "      <td>81.67</td>\n",
       "      <td>65.00</td>\n",
       "    </tr>\n",
       "    <tr>\n",
       "      <th>2014</th>\n",
       "      <td>80.0</td>\n",
       "      <td>300.0</td>\n",
       "      <td>45.0</td>\n",
       "      <td>440.91</td>\n",
       "      <td>NaN</td>\n",
       "      <td>60.00</td>\n",
       "    </tr>\n",
       "    <tr>\n",
       "      <th>2013</th>\n",
       "      <td>70.0</td>\n",
       "      <td>300.0</td>\n",
       "      <td>40.0</td>\n",
       "      <td>364.55</td>\n",
       "      <td>NaN</td>\n",
       "      <td>50.00</td>\n",
       "    </tr>\n",
       "    <tr>\n",
       "      <th>2012</th>\n",
       "      <td>70.0</td>\n",
       "      <td>318.4</td>\n",
       "      <td>37.0</td>\n",
       "      <td>385.00</td>\n",
       "      <td>45.00</td>\n",
       "      <td>45.00</td>\n",
       "    </tr>\n",
       "    <tr>\n",
       "      <th>2011</th>\n",
       "      <td>75.0</td>\n",
       "      <td>285.0</td>\n",
       "      <td>35.5</td>\n",
       "      <td>399.25</td>\n",
       "      <td>79.37</td>\n",
       "      <td>40.00</td>\n",
       "    </tr>\n",
       "    <tr>\n",
       "      <th>2010</th>\n",
       "      <td>55.0</td>\n",
       "      <td>220.0</td>\n",
       "      <td>38.5</td>\n",
       "      <td>300.00</td>\n",
       "      <td>NaN</td>\n",
       "      <td>25.00</td>\n",
       "    </tr>\n",
       "  </tbody>\n",
       "</table>\n",
       "</div>"
      ],
      "text/plain": [
       "      Meal, Inexpensive Restaurant  \\\n",
       "Year                                 \n",
       "2023                         170.0   \n",
       "2022                         150.0   \n",
       "2021                         150.0   \n",
       "2020                         120.0   \n",
       "2019                         140.0   \n",
       "2018                         120.0   \n",
       "2017                         100.0   \n",
       "2016                         100.0   \n",
       "2015                          90.0   \n",
       "2014                          80.0   \n",
       "2013                          70.0   \n",
       "2012                          70.0   \n",
       "2011                          75.0   \n",
       "2010                          55.0   \n",
       "\n",
       "      Meal for 2 People, Mid-range Restaurant, Three-course  \\\n",
       "Year                                                          \n",
       "2023                                              700.0       \n",
       "2022                                              600.0       \n",
       "2021                                              600.0       \n",
       "2020                                              550.0       \n",
       "2019                                              600.0       \n",
       "2018                                              500.0       \n",
       "2017                                              460.0       \n",
       "2016                                              450.0       \n",
       "2015                                              400.0       \n",
       "2014                                              300.0       \n",
       "2013                                              300.0       \n",
       "2012                                              318.4       \n",
       "2011                                              285.0       \n",
       "2010                                              220.0       \n",
       "\n",
       "      McMeal at McDonalds (or Equivalent Combo Meal)  \\\n",
       "Year                                                   \n",
       "2023                                            80.0   \n",
       "2022                                            70.0   \n",
       "2021                                            65.0   \n",
       "2020                                            60.0   \n",
       "2019                                            60.0   \n",
       "2018                                            60.0   \n",
       "2017                                            57.5   \n",
       "2016                                            55.0   \n",
       "2015                                            45.0   \n",
       "2014                                            45.0   \n",
       "2013                                            40.0   \n",
       "2012                                            37.0   \n",
       "2011                                            35.5   \n",
       "2010                                            38.5   \n",
       "\n",
       "      Fitness Club, Monthly Fee for 1 Adult  \\\n",
       "Year                                          \n",
       "2023                                 595.27   \n",
       "2022                                 728.82   \n",
       "2021                                 541.35   \n",
       "2020                                 514.19   \n",
       "2019                                 567.01   \n",
       "2018                                 476.75   \n",
       "2017                                 499.09   \n",
       "2016                                 530.39   \n",
       "2015                                 433.25   \n",
       "2014                                 440.91   \n",
       "2013                                 364.55   \n",
       "2012                                 385.00   \n",
       "2011                                 399.25   \n",
       "2010                                 300.00   \n",
       "\n",
       "     Tennis Court Rent (1 Hour on Weekend)  \\\n",
       "Year                                         \n",
       "2023                                 87.50   \n",
       "2022                                188.33   \n",
       "2021                                155.62   \n",
       "2020                                179.44   \n",
       "2019                                126.47   \n",
       "2018                                132.62   \n",
       "2017                                 80.00   \n",
       "2016                                 95.00   \n",
       "2015                                 81.67   \n",
       "2014                                   NaN   \n",
       "2013                                   NaN   \n",
       "2012                                 45.00   \n",
       "2011                                 79.37   \n",
       "2010                                   NaN   \n",
       "\n",
       "      Cinema, International Release, 1 Seat  \n",
       "Year                                         \n",
       "2023                                 107.50  \n",
       "2022                                 100.00  \n",
       "2021                                 100.00  \n",
       "2020                                 100.00  \n",
       "2019                                  85.00  \n",
       "2018                                  80.00  \n",
       "2017                                  75.00  \n",
       "2016                                  67.25  \n",
       "2015                                  65.00  \n",
       "2014                                  60.00  \n",
       "2013                                  50.00  \n",
       "2012                                  45.00  \n",
       "2011                                  40.00  \n",
       "2010                                  25.00  "
      ]
     },
     "execution_count": 29,
     "metadata": {},
     "output_type": "execute_result"
    }
   ],
   "source": [
    "clean_data[1].interpolate()"
   ]
  },
  {
   "cell_type": "markdown",
   "metadata": {},
   "source": [
    "Once interpolated, the data can be ploted as a time series (line plot showing values from 2011 to 2023 for each feature)."
   ]
  },
  {
   "cell_type": "markdown",
   "metadata": {},
   "source": [
    "## Helper Functions"
   ]
  },
  {
   "cell_type": "markdown",
   "metadata": {},
   "source": [
    "#### Market Average "
   ]
  },
  {
   "cell_type": "code",
   "execution_count": 17,
   "metadata": {},
   "outputs": [],
   "source": [
    "market = clean_data[0].astype(float).interpolate()\n",
    "p_mark = round(market.loc[2023].sum() * 2, 2)"
   ]
  },
  {
   "cell_type": "markdown",
   "metadata": {},
   "source": [
    "#### Leisure Average"
   ]
  },
  {
   "cell_type": "code",
   "execution_count": 18,
   "metadata": {},
   "outputs": [],
   "source": [
    "leisure = clean_data[1].astype(float).interpolate()\n",
    "p_leis = round(leisure.loc[2023].sum() / 3, 2)\n",
    "p_leis \n"
   ]
  },
  {
   "cell_type": "markdown",
   "metadata": {},
   "source": [
    "#### Rental Average"
   ]
  },
  {
   "cell_type": "code",
   "execution_count": 19,
   "metadata": {},
   "outputs": [],
   "source": [
    "rental = clean_data[2].astype(float).interpolate()\n",
    "p_rent = round(rental.loc[2023].mean(), 2)\n",
    "p_rent"
   ]
  },
  {
   "cell_type": "markdown",
   "metadata": {},
   "source": [
    "#### Public Transport "
   ]
  },
  {
   "cell_type": "code",
   "execution_count": 20,
   "metadata": {},
   "outputs": [],
   "source": [
    "public_transport = clean_data[3].astype(float).interpolate()\n",
    "p_trans = public_transport.loc[2023].sum()\n",
    "p_trans"
   ]
  },
  {
   "cell_type": "markdown",
   "metadata": {},
   "source": [
    "#### Utilites "
   ]
  },
  {
   "cell_type": "code",
   "execution_count": 21,
   "metadata": {},
   "outputs": [],
   "source": [
    "utilities = clean_data[4].astype(float).interpolate()\n",
    "p_utils = round(utilities.loc[2023].astype(float).sum() / 4, 2)\n",
    "p_utils "
   ]
  },
  {
   "cell_type": "markdown",
   "metadata": {},
   "source": [
    "#### Clothing"
   ]
  },
  {
   "cell_type": "code",
   "execution_count": 22,
   "metadata": {},
   "outputs": [],
   "source": [
    "clothing = clean_data[5].astype(float).interpolate()\n",
    "p_cloth = round(clothing.loc[2023].sum() / 2, 2)\n",
    "p_cloth"
   ]
  },
  {
   "cell_type": "code",
   "execution_count": 23,
   "metadata": {},
   "outputs": [
    {
     "data": {
      "text/plain": [
       "20935.09"
      ]
     },
     "execution_count": 23,
     "metadata": {},
     "output_type": "execute_result"
    }
   ],
   "source": [
    "total = p_cloth + p_utils + p_trans + p_rent + p_leis + p_mark\n",
    "round(total, 2)"
   ]
  },
  {
   "cell_type": "code",
   "execution_count": 24,
   "metadata": {},
   "outputs": [],
   "source": [
    "import os\n",
    "\n",
    "def save_df(df_list, city): \n",
    "    categories=[\"Market\",\"Leisure\",\"Rental\",\"Transport\", \"Utilities\",\"Clothing\"]\n",
    "    # Create directory if it doesn't exist\n",
    "    directory = f'data/processed/{city}'\n",
    "    if not os.path.exists(directory):\n",
    "        os.makedirs(directory)\n",
    "    for index, frame in enumerate(df_list):\n",
    "        # Ensure the title index is within bounds\n",
    "        frame.astype(float).interpolate()\n",
    "        if index < len(categories):\n",
    "            # Save DataFrame to CSV\n",
    "            frame.to_csv(f'{directory}/{categories[index]}.csv', sep=',', index=False, encoding='utf-8')"
   ]
  },
  {
   "cell_type": "code",
   "execution_count": 25,
   "metadata": {},
   "outputs": [],
   "source": [
    "save_df(clean_data, 'cape-town')\n"
   ]
  }
 ],
 "metadata": {
  "kernelspec": {
   "display_name": "base",
   "language": "python",
   "name": "python3"
  },
  "language_info": {
   "codemirror_mode": {
    "name": "ipython",
    "version": 3
   },
   "file_extension": ".py",
   "mimetype": "text/x-python",
   "name": "python",
   "nbconvert_exporter": "python",
   "pygments_lexer": "ipython3",
   "version": "3.11.7"
  }
 },
 "nbformat": 4,
 "nbformat_minor": 2
}
