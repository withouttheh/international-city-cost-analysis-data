{
 "cells": [
  {
   "cell_type": "markdown",
   "metadata": {},
   "source": [
    "## Budget Calculator App API"
   ]
  },
  {
   "cell_type": "markdown",
   "metadata": {},
   "source": [
    "This notebook serves as a model for the app API"
   ]
  },
  {
   "cell_type": "code",
   "execution_count": null,
   "metadata": {},
   "outputs": [],
   "source": [
    "import requests\n",
    "from bs4 import BeautifulSoup\n",
    "import pandas as pd\n",
    "import numpy as np"
   ]
  },
  {
   "cell_type": "markdown",
   "metadata": {},
   "source": [
    "## Initial Requests "
   ]
  },
  {
   "cell_type": "markdown",
   "metadata": {},
   "source": [
    "This code runs each time the application starts. "
   ]
  },
  {
   "cell_type": "code",
   "execution_count": null,
   "metadata": {},
   "outputs": [],
   "source": [
    "base_url = 'https://www.numbeo.com/cost-of-living/historical-data-city-selector'"
   ]
  },
  {
   "cell_type": "code",
   "execution_count": null,
   "metadata": {},
   "outputs": [],
   "source": [
    "page = requests.get(base_url)\n",
    "numbeo_city_soup = BeautifulSoup(page.content, \"html.parser\")\n",
    "results = numbeo_city_soup.find('table', class_='related_links')\n",
    "print(results())"
   ]
  },
  {
   "cell_type": "code",
   "execution_count": null,
   "metadata": {},
   "outputs": [],
   "source": [
    "list_cities = results.find_all('a')\n",
    "list_cities[0]"
   ]
  },
  {
   "cell_type": "code",
   "execution_count": null,
   "metadata": {},
   "outputs": [],
   "source": [
    "city_name = lambda x: f\"({x[0]}) {x[1]}\" if len(x) > 2 else x[0]\n",
    "\n",
    "city_dict = lambda x: {'City':city_name(x.text.split(\",\")), 'Country':x.text.split(\",\")[-1].strip(), 'Url':x[\"href\"]}\n",
    "city_pages = [city_dict(city) for city in list_cities]"
   ]
  },
  {
   "cell_type": "code",
   "execution_count": null,
   "metadata": {},
   "outputs": [],
   "source": [
    "df = pd.DataFrame(city_pages) # creates a dataframe with all cities, their country and page urls for their data tables \n",
    "df.head()"
   ]
  },
  {
   "cell_type": "markdown",
   "metadata": {},
   "source": [
    "## User Interaction"
   ]
  },
  {
   "cell_type": "markdown",
   "metadata": {},
   "source": [
    "This part of the code kicks in when the user inputs search criterion via the UI"
   ]
  },
  {
   "cell_type": "code",
   "execution_count": null,
   "metadata": {},
   "outputs": [],
   "source": [
    "country_selection = input(\"Select Country\")\n",
    "country_slice = df[df[\"Country\"] == country_selection]"
   ]
  },
  {
   "cell_type": "code",
   "execution_count": null,
   "metadata": {},
   "outputs": [],
   "source": [
    "country_slice"
   ]
  },
  {
   "cell_type": "markdown",
   "metadata": {},
   "source": [
    "Once the data has been sliced by country, the user can select a city. Some cities are duplicated accross countries or states. Being able to avoid ambiguity by defining country then city is an essential step in ensuring the app provides accurate information."
   ]
  },
  {
   "cell_type": "code",
   "execution_count": null,
   "metadata": {},
   "outputs": [],
   "source": [
    "def get_tables(city):\n",
    "    from io import StringIO\n",
    "    page = requests.get(df.iloc[df.loc[df['City'] == city].index[0]][\"Url\"])\n",
    "    one_city_soup = BeautifulSoup(page.content, \"html.parser\")\n",
    "    inner_width = one_city_soup.find_all('div', class_='innerWidth')\n",
    "    results = inner_width[2].find_all('table')\n",
    "    return results"
   ]
  },
  {
   "cell_type": "code",
   "execution_count": null,
   "metadata": {},
   "outputs": [],
   "source": [
    "city = \"Johannesburg\"\n",
    "data = get_tables(city)"
   ]
  },
  {
   "cell_type": "code",
   "execution_count": null,
   "metadata": {},
   "outputs": [],
   "source": [
    "data[0]\n"
   ]
  },
  {
   "cell_type": "markdown",
   "metadata": {},
   "source": [
    "The below function takes the raw tables and combines them into categories of cost groups which the user will be able to track their expenditure in."
   ]
  },
  {
   "cell_type": "code",
   "execution_count": 94,
   "metadata": {},
   "outputs": [],
   "source": [
    "def categorize_data(tables):\n",
    "    from io import StringIO\n",
    "    reader_converter = lambda x: pd.DataFrame(pd.read_html(StringIO(str(x)))[0])\n",
    "    df_list = [reader_converter(table) for table in tables]\n",
    "    market = pd.concat([df_list[2], df_list[3], df_list[4]], axis=1).T.drop_duplicates().T\n",
    "    leisure = pd.concat([df_list[0], df_list[12]], axis=1).T.drop_duplicates().T\n",
    "    rental = df_list[5]\n",
    "    public_transport = df_list[9]\n",
    "    utillities = df_list[11]\n",
    "    clothing = df_list[13]\n",
    "    category_frames = [market, leisure, rental, public_transport, utillities, clothing]\n",
    "    return [frame.set_index(\"Year\") for frame in category_frames]"
   ]
  },
  {
   "cell_type": "markdown",
   "metadata": {},
   "source": [
    "The index code for categories is as follows:\n",
    "\n",
    "0 - Market\n",
    "1 - Leisure\n",
    "2 - Rental\n",
    "3 - Public Transport\n",
    "5 - Utilities\n",
    "6 - Clothing\n"
   ]
  },
  {
   "cell_type": "markdown",
   "metadata": {},
   "source": [
    "The i"
   ]
  },
  {
   "cell_type": "code",
   "execution_count": 95,
   "metadata": {},
   "outputs": [],
   "source": [
    "categorized_data = categorize_data(data)"
   ]
  },
  {
   "cell_type": "markdown",
   "metadata": {},
   "source": [
    "The below function cleans the categorized data, removing nulls and changing datatypes to floats. This is essential for the next step: interpolation."
   ]
  },
  {
   "cell_type": "code",
   "execution_count": 128,
   "metadata": {},
   "outputs": [],
   "source": [
    "def clean_data(frames):\n",
    "    for frame in frames:\n",
    "        frame.replace({'-': np.nan}, inplace=True)\n",
    "        frame = frame.astype(float)\n",
    "    return(frames)"
   ]
  },
  {
   "cell_type": "code",
   "execution_count": 129,
   "metadata": {},
   "outputs": [],
   "source": [
    "clean_data = clean_data(categorized_data)"
   ]
  },
  {
   "cell_type": "markdown",
   "metadata": {},
   "source": [
    "Each dataframe is interpolated in a linear manner, filling the nulls according to the progression or sequence of values accross the column. "
   ]
  },
  {
   "cell_type": "code",
   "execution_count": 137,
   "metadata": {},
   "outputs": [
    {
     "data": {
      "text/html": [
       "<div>\n",
       "<style scoped>\n",
       "    .dataframe tbody tr th:only-of-type {\n",
       "        vertical-align: middle;\n",
       "    }\n",
       "\n",
       "    .dataframe tbody tr th {\n",
       "        vertical-align: top;\n",
       "    }\n",
       "\n",
       "    .dataframe thead th {\n",
       "        text-align: right;\n",
       "    }\n",
       "</style>\n",
       "<table border=\"1\" class=\"dataframe\">\n",
       "  <thead>\n",
       "    <tr style=\"text-align: right;\">\n",
       "      <th></th>\n",
       "      <th>Meal, Inexpensive Restaurant</th>\n",
       "      <th>Meal for 2 People, Mid-range Restaurant, Three-course</th>\n",
       "      <th>McMeal at McDonalds (or Equivalent Combo Meal)</th>\n",
       "      <th>Fitness Club, Monthly Fee for 1 Adult</th>\n",
       "      <th>Tennis Court Rent (1 Hour on Weekend)</th>\n",
       "      <th>Cinema, International Release, 1 Seat</th>\n",
       "    </tr>\n",
       "    <tr>\n",
       "      <th>Year</th>\n",
       "      <th></th>\n",
       "      <th></th>\n",
       "      <th></th>\n",
       "      <th></th>\n",
       "      <th></th>\n",
       "      <th></th>\n",
       "    </tr>\n",
       "  </thead>\n",
       "  <tbody>\n",
       "    <tr>\n",
       "      <th>2023.0</th>\n",
       "      <td>150.0</td>\n",
       "      <td>700.0</td>\n",
       "      <td>80.0</td>\n",
       "      <td>605.04</td>\n",
       "      <td>287.50</td>\n",
       "      <td>122.50</td>\n",
       "    </tr>\n",
       "    <tr>\n",
       "      <th>2022.0</th>\n",
       "      <td>150.0</td>\n",
       "      <td>600.0</td>\n",
       "      <td>80.0</td>\n",
       "      <td>579.24</td>\n",
       "      <td>147.00</td>\n",
       "      <td>100.00</td>\n",
       "    </tr>\n",
       "    <tr>\n",
       "      <th>2021.0</th>\n",
       "      <td>160.0</td>\n",
       "      <td>600.0</td>\n",
       "      <td>64.0</td>\n",
       "      <td>512.80</td>\n",
       "      <td>151.01</td>\n",
       "      <td>98.50</td>\n",
       "    </tr>\n",
       "    <tr>\n",
       "      <th>2020.0</th>\n",
       "      <td>150.0</td>\n",
       "      <td>600.0</td>\n",
       "      <td>57.0</td>\n",
       "      <td>478.82</td>\n",
       "      <td>163.33</td>\n",
       "      <td>96.50</td>\n",
       "    </tr>\n",
       "    <tr>\n",
       "      <th>2019.0</th>\n",
       "      <td>135.0</td>\n",
       "      <td>500.0</td>\n",
       "      <td>55.0</td>\n",
       "      <td>566.57</td>\n",
       "      <td>172.65</td>\n",
       "      <td>90.00</td>\n",
       "    </tr>\n",
       "    <tr>\n",
       "      <th>2018.0</th>\n",
       "      <td>130.0</td>\n",
       "      <td>500.0</td>\n",
       "      <td>60.0</td>\n",
       "      <td>478.61</td>\n",
       "      <td>141.40</td>\n",
       "      <td>80.00</td>\n",
       "    </tr>\n",
       "    <tr>\n",
       "      <th>2017.0</th>\n",
       "      <td>120.0</td>\n",
       "      <td>500.0</td>\n",
       "      <td>55.0</td>\n",
       "      <td>450.18</td>\n",
       "      <td>163.33</td>\n",
       "      <td>75.00</td>\n",
       "    </tr>\n",
       "    <tr>\n",
       "      <th>2016.0</th>\n",
       "      <td>100.0</td>\n",
       "      <td>450.0</td>\n",
       "      <td>51.0</td>\n",
       "      <td>446.61</td>\n",
       "      <td>98.12</td>\n",
       "      <td>70.00</td>\n",
       "    </tr>\n",
       "    <tr>\n",
       "      <th>2015.0</th>\n",
       "      <td>100.0</td>\n",
       "      <td>400.0</td>\n",
       "      <td>50.0</td>\n",
       "      <td>398.55</td>\n",
       "      <td>100.91</td>\n",
       "      <td>65.00</td>\n",
       "    </tr>\n",
       "    <tr>\n",
       "      <th>2014.0</th>\n",
       "      <td>85.0</td>\n",
       "      <td>400.0</td>\n",
       "      <td>50.0</td>\n",
       "      <td>376.67</td>\n",
       "      <td>129.25</td>\n",
       "      <td>60.00</td>\n",
       "    </tr>\n",
       "    <tr>\n",
       "      <th>2013.0</th>\n",
       "      <td>80.0</td>\n",
       "      <td>365.0</td>\n",
       "      <td>45.0</td>\n",
       "      <td>378.75</td>\n",
       "      <td>78.33</td>\n",
       "      <td>60.00</td>\n",
       "    </tr>\n",
       "    <tr>\n",
       "      <th>2012.0</th>\n",
       "      <td>85.0</td>\n",
       "      <td>350.0</td>\n",
       "      <td>40.0</td>\n",
       "      <td>434.44</td>\n",
       "      <td>37.50</td>\n",
       "      <td>50.00</td>\n",
       "    </tr>\n",
       "    <tr>\n",
       "      <th>2011.0</th>\n",
       "      <td>70.0</td>\n",
       "      <td>300.0</td>\n",
       "      <td>40.0</td>\n",
       "      <td>422.00</td>\n",
       "      <td>42.92</td>\n",
       "      <td>35.11</td>\n",
       "    </tr>\n",
       "  </tbody>\n",
       "</table>\n",
       "</div>"
      ],
      "text/plain": [
       "        Meal, Inexpensive Restaurant  \\\n",
       "Year                                   \n",
       "2023.0                         150.0   \n",
       "2022.0                         150.0   \n",
       "2021.0                         160.0   \n",
       "2020.0                         150.0   \n",
       "2019.0                         135.0   \n",
       "2018.0                         130.0   \n",
       "2017.0                         120.0   \n",
       "2016.0                         100.0   \n",
       "2015.0                         100.0   \n",
       "2014.0                          85.0   \n",
       "2013.0                          80.0   \n",
       "2012.0                          85.0   \n",
       "2011.0                          70.0   \n",
       "\n",
       "        Meal for 2 People, Mid-range Restaurant, Three-course  \\\n",
       "Year                                                            \n",
       "2023.0                                              700.0       \n",
       "2022.0                                              600.0       \n",
       "2021.0                                              600.0       \n",
       "2020.0                                              600.0       \n",
       "2019.0                                              500.0       \n",
       "2018.0                                              500.0       \n",
       "2017.0                                              500.0       \n",
       "2016.0                                              450.0       \n",
       "2015.0                                              400.0       \n",
       "2014.0                                              400.0       \n",
       "2013.0                                              365.0       \n",
       "2012.0                                              350.0       \n",
       "2011.0                                              300.0       \n",
       "\n",
       "        McMeal at McDonalds (or Equivalent Combo Meal)  \\\n",
       "Year                                                     \n",
       "2023.0                                            80.0   \n",
       "2022.0                                            80.0   \n",
       "2021.0                                            64.0   \n",
       "2020.0                                            57.0   \n",
       "2019.0                                            55.0   \n",
       "2018.0                                            60.0   \n",
       "2017.0                                            55.0   \n",
       "2016.0                                            51.0   \n",
       "2015.0                                            50.0   \n",
       "2014.0                                            50.0   \n",
       "2013.0                                            45.0   \n",
       "2012.0                                            40.0   \n",
       "2011.0                                            40.0   \n",
       "\n",
       "        Fitness Club, Monthly Fee for 1 Adult  \\\n",
       "Year                                            \n",
       "2023.0                                 605.04   \n",
       "2022.0                                 579.24   \n",
       "2021.0                                 512.80   \n",
       "2020.0                                 478.82   \n",
       "2019.0                                 566.57   \n",
       "2018.0                                 478.61   \n",
       "2017.0                                 450.18   \n",
       "2016.0                                 446.61   \n",
       "2015.0                                 398.55   \n",
       "2014.0                                 376.67   \n",
       "2013.0                                 378.75   \n",
       "2012.0                                 434.44   \n",
       "2011.0                                 422.00   \n",
       "\n",
       "        Tennis Court Rent (1 Hour on Weekend)  \\\n",
       "Year                                            \n",
       "2023.0                                 287.50   \n",
       "2022.0                                 147.00   \n",
       "2021.0                                 151.01   \n",
       "2020.0                                 163.33   \n",
       "2019.0                                 172.65   \n",
       "2018.0                                 141.40   \n",
       "2017.0                                 163.33   \n",
       "2016.0                                  98.12   \n",
       "2015.0                                 100.91   \n",
       "2014.0                                 129.25   \n",
       "2013.0                                  78.33   \n",
       "2012.0                                  37.50   \n",
       "2011.0                                  42.92   \n",
       "\n",
       "        Cinema, International Release, 1 Seat  \n",
       "Year                                           \n",
       "2023.0                                 122.50  \n",
       "2022.0                                 100.00  \n",
       "2021.0                                  98.50  \n",
       "2020.0                                  96.50  \n",
       "2019.0                                  90.00  \n",
       "2018.0                                  80.00  \n",
       "2017.0                                  75.00  \n",
       "2016.0                                  70.00  \n",
       "2015.0                                  65.00  \n",
       "2014.0                                  60.00  \n",
       "2013.0                                  60.00  \n",
       "2012.0                                  50.00  \n",
       "2011.0                                  35.11  "
      ]
     },
     "execution_count": 137,
     "metadata": {},
     "output_type": "execute_result"
    }
   ],
   "source": [
    "clean_data[0].interpolate()"
   ]
  },
  {
   "cell_type": "markdown",
   "metadata": {},
   "source": []
  },
  {
   "cell_type": "markdown",
   "metadata": {},
   "source": [
    "Once interpolated, the data can be ploted as a time series."
   ]
  },
  {
   "cell_type": "code",
   "execution_count": null,
   "metadata": {},
   "outputs": [],
   "source": []
  }
 ],
 "metadata": {
  "kernelspec": {
   "display_name": "base",
   "language": "python",
   "name": "python3"
  },
  "language_info": {
   "codemirror_mode": {
    "name": "ipython",
    "version": 3
   },
   "file_extension": ".py",
   "mimetype": "text/x-python",
   "name": "python",
   "nbconvert_exporter": "python",
   "pygments_lexer": "ipython3",
   "version": "3.11.5"
  }
 },
 "nbformat": 4,
 "nbformat_minor": 2
}
